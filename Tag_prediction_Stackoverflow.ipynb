{
  "nbformat": 4,
  "nbformat_minor": 0,
  "metadata": {
    "colab": {
      "name": "Tag prediction Stackoverflow.ipynb",
      "provenance": [],
      "collapsed_sections": [],
      "toc_visible": true,
      "authorship_tag": "ABX9TyOPsQCJT4z3f5xQHW3s/ZEn",
      "include_colab_link": true
    },
    "kernelspec": {
      "name": "python3",
      "display_name": "Python 3"
    }
  },
  "cells": [
    {
      "cell_type": "markdown",
      "metadata": {
        "id": "view-in-github",
        "colab_type": "text"
      },
      "source": [
        "<a href=\"https://colab.research.google.com/github/khoualdiafarouk/Predicting-tags-for-Stackoverflow/blob/main/Tag_prediction_Stackoverflow.ipynb\" target=\"_parent\"><img src=\"https://colab.research.google.com/assets/colab-badge.svg\" alt=\"Open In Colab\"/></a>"
      ]
    },
    {
      "cell_type": "code",
      "metadata": {
        "colab": {
          "base_uri": "https://localhost:8080/"
        },
        "id": "4zazMxxv7gIz",
        "outputId": "918cd9ff-93f4-4585-fde8-722178e3a4a0"
      },
      "source": [
        "import nltk\r\n",
        "nltk.download('stopwords')\r\n",
        "nltk.download('punkt')\r\n",
        "from nltk.corpus import stopwords"
      ],
      "execution_count": null,
      "outputs": [
        {
          "output_type": "stream",
          "text": [
            "[nltk_data] Downloading package stopwords to /root/nltk_data...\n",
            "[nltk_data]   Package stopwords is already up-to-date!\n",
            "[nltk_data] Downloading package punkt to /root/nltk_data...\n",
            "[nltk_data]   Package punkt is already up-to-date!\n"
          ],
          "name": "stderr"
        }
      ]
    },
    {
      "cell_type": "markdown",
      "metadata": {
        "id": "Pi5WLU097zVg"
      },
      "source": [
        "\r\n",
        "\r\n",
        "```\r\n",
        "\r\n",
        "```\r\n",
        "\r\n",
        "# Predicting tokens for stack overflow"
      ]
    },
    {
      "cell_type": "markdown",
      "metadata": {
        "id": "1pMSNjYAnKXm"
      },
      "source": [
        ""
      ]
    },
    {
      "cell_type": "code",
      "metadata": {
        "id": "yBrYhsxy8FxY"
      },
      "source": [
        "from ast import literal_eval\r\n",
        "import pandas as pd\r\n",
        "import numpy as np\r\n"
      ],
      "execution_count": null,
      "outputs": []
    },
    {
      "cell_type": "code",
      "metadata": {
        "id": "RFZk3dZs8ZHe"
      },
      "source": [
        "def read_data(file):\r\n",
        "  data=pd.read_csv(file,sep='\\t')\r\n",
        "  data['tags']=data['tags'].apply(literal_eval)\r\n",
        "  return data\r\n"
      ],
      "execution_count": null,
      "outputs": []
    },
    {
      "cell_type": "code",
      "metadata": {
        "id": "fx43qzFR9Na-"
      },
      "source": [
        "train=read_data('data/train.tsv')\r\n",
        "validation=read_data('data/validation.tsv')\r\n",
        "test=pd.read_csv('data/test.tsv',sep='\\t')"
      ],
      "execution_count": null,
      "outputs": []
    },
    {
      "cell_type": "code",
      "metadata": {
        "colab": {
          "base_uri": "https://localhost:8080/"
        },
        "id": "ucDhDJWU-mtF",
        "outputId": "95c1b0a6-183d-4b42-ea44-47729e02e043"
      },
      "source": [
        "train.head"
      ],
      "execution_count": null,
      "outputs": [
        {
          "output_type": "execute_result",
          "data": {
            "text/plain": [
              "<bound method NDFrame.head of                                                    title                                     tags\n",
              "0                    How to draw a stacked dotplot in R?                                      [r]\n",
              "1      mysql select all records where a datetime fiel...                             [php, mysql]\n",
              "2                 How to terminate windows phone 8.1 app                                     [c#]\n",
              "3      get current time in a specific country via jquery                     [javascript, jquery]\n",
              "4                          Configuring Tomcat to Use SSL                                   [java]\n",
              "...                                                  ...                                      ...\n",
              "99995  Obj-c, incorrect checksum for freed object - o...  [iphone, objective-c, ios, cocoa-touch]\n",
              "99996              How to connect via HTTPS using Jsoup?                          [java, android]\n",
              "99997  Python Pandas Series of Datetimes to Seconds S...               [python, datetime, pandas]\n",
              "99998  jqGrid issue grouping - Duplicate rows get app...                     [javascript, jquery]\n",
              "99999                    Create a List of primitive int?                   [java, list, generics]\n",
              "\n",
              "[100000 rows x 2 columns]>"
            ]
          },
          "metadata": {
            "tags": []
          },
          "execution_count": 181
        }
      ]
    },
    {
      "cell_type": "markdown",
      "metadata": {
        "id": "84Y5YSPA-ttG"
      },
      "source": [
        ""
      ]
    },
    {
      "cell_type": "code",
      "metadata": {
        "id": "uFRkLBqh_aIB"
      },
      "source": [
        "X_train=train['title'].values\r\n",
        "y_train=train['tags'].values\r\n",
        "X_val=validation['title'].values\r\n",
        "y_val=validation['tags'].values\r\n",
        "X_test=test['title'].values"
      ],
      "execution_count": null,
      "outputs": []
    },
    {
      "cell_type": "code",
      "metadata": {
        "id": "YwOzUAq5_89n"
      },
      "source": [
        "import re\r\n"
      ],
      "execution_count": null,
      "outputs": []
    },
    {
      "cell_type": "code",
      "metadata": {
        "id": "mI6n7gm1AdHl"
      },
      "source": [
        "from nltk.tokenize import word_tokenize\r\n",
        "REPLACE_BY_SPACE_RE = re.compile('[/(){}\\[\\]\\|@,;]')\r\n",
        "BAD_SYMBOLS_RE = re.compile('[^0-9a-z #+_]')\r\n",
        "STOPWORDS = set(stopwords.words('english'))\r\n",
        "\r\n",
        "def text_prepare(text):\r\n",
        "    text = text.lower()\r\n",
        "    text = REPLACE_BY_SPACE_RE.sub('',text)\r\n",
        "    text = BAD_SYMBOLS_RE.sub('',text)\r\n",
        "    text_tokens=word_tokenize(text)\r\n",
        "    words=[word for word in text_tokens if word not in STOPWORDS]\r\n",
        "    text=' '.join(words)\r\n",
        "    return text"
      ],
      "execution_count": null,
      "outputs": []
    },
    {
      "cell_type": "code",
      "metadata": {
        "id": "zo5pZVcACXe7"
      },
      "source": [
        "X_train=[text_prepare(x) for x in X_train]\r\n",
        "X_val = [text_prepare(x) for x in X_val]\r\n",
        "X_test = [text_prepare(x) for x in X_test]"
      ],
      "execution_count": null,
      "outputs": []
    },
    {
      "cell_type": "code",
      "metadata": {
        "colab": {
          "base_uri": "https://localhost:8080/"
        },
        "id": "ZHGvxbs8KOqW",
        "outputId": "4922262b-2fcd-4b49-f7e8-55239d6d2883"
      },
      "source": [
        "X_train[:3]\r\n"
      ],
      "execution_count": null,
      "outputs": [
        {
          "output_type": "execute_result",
          "data": {
            "text/plain": [
              "['draw stacked dotplot r',\n",
              " 'mysql select records datetime field less specified value',\n",
              " 'terminate windows phone 81 app']"
            ]
          },
          "metadata": {
            "tags": []
          },
          "execution_count": 186
        }
      ]
    },
    {
      "cell_type": "code",
      "metadata": {
        "colab": {
          "base_uri": "https://localhost:8080/"
        },
        "id": "phzChiulK6mg",
        "outputId": "4ae6de22-9208-4e8f-d462-653d40bd6827"
      },
      "source": [
        "tags_counts = {}\r\n",
        "for tags in y_train:\r\n",
        "  for tag in tags:\r\n",
        "    if tag not in tags_counts:\r\n",
        "      tags_counts[tag]=1\r\n",
        "    else:\r\n",
        "      tags_counts[tag]+=1\r\n",
        "words_counts = {}\r\n",
        "for words in X_train:\r\n",
        "    words=words.split()\r\n",
        "    for word in words:\r\n",
        "      if word not in words_counts:\r\n",
        "        words_counts[word]=1\r\n",
        "      else:\r\n",
        "        words_counts[word]+=1 \r\n",
        "most_common_tags = sorted(tags_counts.items(), key=lambda x: x[1], reverse=True)[:3]\r\n",
        "most_common_words = sorted(words_counts.items(), key=lambda x: x[1], reverse=True)[:3]\r\n",
        "print(most_common_tags)\r\n",
        "print(most_common_words)"
      ],
      "execution_count": null,
      "outputs": [
        {
          "output_type": "stream",
          "text": [
            "[('javascript', 19078), ('c#', 19077), ('java', 18661)]\n",
            "[('using', 8274), ('c', 5610), ('php', 5422)]\n"
          ],
          "name": "stdout"
        }
      ]
    },
    {
      "cell_type": "markdown",
      "metadata": {
        "id": "BzU22Hk-TFdO"
      },
      "source": [
        "Transforming text to a vector"
      ]
    },
    {
      "cell_type": "markdown",
      "metadata": {
        "id": "yT1QFAbDTJdA"
      },
      "source": [
        "1-Bag of words :"
      ]
    },
    {
      "cell_type": "code",
      "metadata": {
        "id": "9i2riRdzTMSX"
      },
      "source": [
        "DICT_SIZE = 5000\r\n",
        "WORDS_DICT=sorted(words_counts.items(), key=lambda x: x[1], reverse=True)[:DICT_SIZE]\r\n",
        "WORDS_TO_INDEX = dict(zip(WORDS_DICT,range(DICT_SIZE)))\r\n",
        "INDEX_TO_WORDS = dict(zip(range(DICT_SIZE),WORDS_DICT))\r\n",
        "ALL_WORDS = WORDS_TO_INDEX.keys()\r\n",
        "def my_bag_of_words(text, words_to_index, dict_size):\r\n",
        "    result_vector = np.zeros(dict_size)\r\n",
        "    for word in text.split ():\r\n",
        "        if word in words_to_index.keys():\r\n",
        "            result_vector [words_to_index[word]] += 1\r\n",
        "    return result_vector"
      ],
      "execution_count": 207,
      "outputs": []
    },
    {
      "cell_type": "code",
      "metadata": {
        "id": "jqjqwGHkcyjT"
      },
      "source": [
        "from scipy import sparse as sp_sparse\r\n"
      ],
      "execution_count": null,
      "outputs": []
    },
    {
      "cell_type": "code",
      "metadata": {
        "colab": {
          "base_uri": "https://localhost:8080/"
        },
        "id": "AVe3me9ZfK4b",
        "outputId": "beca2cd7-d28b-4ff7-d8ed-f6f17ae4d75b"
      },
      "source": [
        "X_train_mybag = sp_sparse.vstack([sp_sparse.csr_matrix(my_bag_of_words(text, WORDS_TO_INDEX, DICT_SIZE)) for text in X_train])\r\n",
        "X_val_mybag = sp_sparse.vstack([sp_sparse.csr_matrix(my_bag_of_words(text, WORDS_TO_INDEX, DICT_SIZE)) for text in X_val])\r\n",
        "X_test_mybag = sp_sparse.vstack([sp_sparse.csr_matrix(my_bag_of_words(text, WORDS_TO_INDEX, DICT_SIZE)) for text in X_test])\r\n",
        "print('X_train shape ', X_train_mybag.shape)\r\n",
        "print('X_val shape ', X_val_mybag.shape)\r\n",
        "print('X_test shape ', X_test_mybag.shape)"
      ],
      "execution_count": null,
      "outputs": [
        {
          "output_type": "stream",
          "text": [
            "X_train shape  (100000, 5000)\n",
            "X_val shape  (30000, 5000)\n",
            "X_test shape  (20000, 5000)\n"
          ],
          "name": "stdout"
        }
      ]
    },
    {
      "cell_type": "markdown",
      "metadata": {
        "id": "rOmaoVWXgle2"
      },
      "source": [
        "2-tf-idf\r\n"
      ]
    },
    {
      "cell_type": "code",
      "metadata": {
        "id": "rdCQrZ8Ag7lY"
      },
      "source": [
        "from sklearn.feature_extraction.text import TfidfVectorizer"
      ],
      "execution_count": null,
      "outputs": []
    },
    {
      "cell_type": "code",
      "metadata": {
        "id": "SQpxAhqbg8Xh"
      },
      "source": [
        "def tfidf_features(X_train, X_val, X_test):\r\n",
        "    # Create TF-IDF vectorizer with a proper parameters choice\r\n",
        "    # Fit the vectorizer on the train set\r\n",
        "    # Transform the train, test, and val sets and return the result\r\n",
        "    \r\n",
        "    tfidf_vectorizer = TfidfVectorizer(ngram_range=(1,2),max_df=0.9,min_df=5,token_pattern=r'(\\S+)' )\r\n",
        "    tfidf_vectorizer.fit(X_train)\r\n",
        "    X_train = tfidf_vectorizer.transform(X_train)\r\n",
        "    X_val= tfidf_vectorizer.transform(X_val)\r\n",
        "    X_test = tfidf_vectorizer.transform(X_test)\r\n",
        "    \r\n",
        "    return X_train,X_val, X_test, tfidf_vectorizer.vocabulary_\r\n"
      ],
      "execution_count": null,
      "outputs": []
    },
    {
      "cell_type": "code",
      "metadata": {
        "id": "_8lXLXlnkIEj"
      },
      "source": [
        "X_train_tfidf, X_val_tfidf, X_test_tfidf, tfidf_vocab = tfidf_features(X_train, X_val, X_test)\r\n",
        "tfidf_reversed_vocab = {i:word for word,i in tfidf_vocab.items()}"
      ],
      "execution_count": null,
      "outputs": []
    },
    {
      "cell_type": "markdown",
      "metadata": {
        "id": "MFI3dG1tpXJ5"
      },
      "source": [
        "MultiLabel classifier"
      ]
    },
    {
      "cell_type": "code",
      "metadata": {
        "id": "dal0b3YGpnfe"
      },
      "source": [
        "from sklearn.preprocessing import MultiLabelBinarizer\r\n"
      ],
      "execution_count": null,
      "outputs": []
    },
    {
      "cell_type": "code",
      "metadata": {
        "id": "Cx_M4VLzpogf"
      },
      "source": [
        "mlb = MultiLabelBinarizer(classes=sorted(tags_counts.keys()))\r\n",
        "y_train = mlb.fit_transform(y_train)\r\n",
        "y_val = mlb.fit_transform(y_val)"
      ],
      "execution_count": null,
      "outputs": []
    },
    {
      "cell_type": "code",
      "metadata": {
        "id": "mbbRiqPBpxt3"
      },
      "source": [
        "from sklearn.multiclass import OneVsRestClassifier\r\n",
        "from sklearn.linear_model import LogisticRegression, RidgeClassifier"
      ],
      "execution_count": null,
      "outputs": []
    },
    {
      "cell_type": "code",
      "metadata": {
        "colab": {
          "base_uri": "https://localhost:8080/"
        },
        "id": "Bn3L0rwcpxxI",
        "outputId": "4bf9bd19-d299-4752-a221-15ccd1d26e41"
      },
      "source": [
        "mlb.classes_"
      ],
      "execution_count": null,
      "outputs": [
        {
          "output_type": "execute_result",
          "data": {
            "text/plain": [
              "array(['.net', 'ajax', 'algorithm', 'android', 'angularjs', 'apache',\n",
              "       'arrays', 'asp.net', 'asp.net-mvc', 'c', 'c#', 'c++', 'class',\n",
              "       'cocoa-touch', 'codeigniter', 'css', 'csv', 'database', 'date',\n",
              "       'datetime', 'django', 'dom', 'eclipse', 'entity-framework',\n",
              "       'excel', 'facebook', 'file', 'forms', 'function', 'generics',\n",
              "       'google-maps', 'hibernate', 'html', 'html5', 'image', 'ios',\n",
              "       'iphone', 'java', 'javascript', 'jquery', 'json', 'jsp', 'laravel',\n",
              "       'linq', 'linux', 'list', 'loops', 'maven', 'mongodb',\n",
              "       'multithreading', 'mysql', 'node.js', 'numpy', 'objective-c',\n",
              "       'oop', 'opencv', 'osx', 'pandas', 'parsing', 'performance', 'php',\n",
              "       'pointers', 'python', 'python-2.7', 'python-3.x', 'qt', 'r',\n",
              "       'regex', 'rest', 'ruby', 'ruby-on-rails', 'ruby-on-rails-3',\n",
              "       'selenium', 'servlets', 'session', 'sockets', 'sorting', 'spring',\n",
              "       'spring-mvc', 'sql', 'sql-server', 'string', 'swift', 'swing',\n",
              "       'twitter-bootstrap', 'uitableview', 'unit-testing', 'validation',\n",
              "       'vb.net', 'visual-studio', 'visual-studio-2010', 'wcf',\n",
              "       'web-services', 'windows', 'winforms', 'wordpress', 'wpf', 'xaml',\n",
              "       'xcode', 'xml'], dtype=object)"
            ]
          },
          "metadata": {
            "tags": []
          },
          "execution_count": 198
        }
      ]
    },
    {
      "cell_type": "code",
      "metadata": {
        "colab": {
          "base_uri": "https://localhost:8080/"
        },
        "id": "pzEfj26-rHCo",
        "outputId": "56eafb47-ea84-4228-e1ee-bee5f25b5992"
      },
      "source": [
        "# For multiclass classification\r\n",
        "from sklearn.multiclass import OneVsRestClassifier\r\n",
        "\r\n",
        "# Models\r\n",
        "from sklearn.linear_model import LogisticRegression\r\n",
        "from sklearn.discriminant_analysis import LinearDiscriminantAnalysis\r\n",
        "from sklearn.svm import LinearSVC\r\n",
        "from sklearn.naive_bayes import MultinomialNB\r\n",
        "from lightgbm import LGBMClassifier\r\n",
        "\r\n",
        "def train_classifier(X_train, y_train, X_valid=None, y_valid=None, C=1.0, model='lr'):\r\n",
        "    \"\"\"\r\n",
        "      X_train, y_train — training data\r\n",
        "      \r\n",
        "      return: trained classifier\r\n",
        "      \r\n",
        "    \"\"\"\r\n",
        "    \r\n",
        "    if model=='lr':\r\n",
        "        model = LogisticRegression(C=C, penalty='l1', dual=False, solver='liblinear')\r\n",
        "        model = OneVsRestClassifier(model)\r\n",
        "        model.fit(X_train, y_train)\r\n",
        "    \r\n",
        "    elif model=='svm':\r\n",
        "        model = LinearSVC(C=C, penalty='l1', dual=False, loss='squared_hinge')\r\n",
        "        model = OneVsRestClassifier(model)\r\n",
        "        model.fit(X_train, y_train)\r\n",
        "    \r\n",
        "    elif model=='nbayes':\r\n",
        "        model = MultinomialNB(alpha=1.0)\r\n",
        "        model = OneVsRestClassifier(model)\r\n",
        "        model.fit(X_train, y_train)\r\n",
        "        \r\n",
        "    elif model=='lda':\r\n",
        "        model = LinearDiscriminantAnalysis(solver='svd')\r\n",
        "        model = OneVsRestClassifier(model)\r\n",
        "        model.fit(X_train, y_train)\r\n",
        "\r\n",
        "    return model\r\n",
        "\r\n",
        "# Train the classifiers for different data transformations: bag-of-words and tf-idf.\r\n",
        "\r\n",
        "# Linear NLP model using bag of words approach\r\n",
        "%time classifier_mybag = train_classifier(X_train_mybag, y_train, C=1.0, model='lr')\r\n",
        "\r\n",
        "# Linear NLP model using TF-IDF approach\r\n",
        "%time classifier_tfidf = train_classifier(X_train_tfidf, y_train, C=1.0, model='lr')"
      ],
      "execution_count": null,
      "outputs": [
        {
          "output_type": "stream",
          "text": [
            "CPU times: user 8.67 s, sys: 43.4 ms, total: 8.71 s\n",
            "Wall time: 8.72 s\n"
          ],
          "name": "stdout"
        },
        {
          "output_type": "stream",
          "text": [
            "/usr/local/lib/python3.6/dist-packages/sklearn/svm/_base.py:947: ConvergenceWarning: Liblinear failed to converge, increase the number of iterations.\n",
            "  \"the number of iterations.\", ConvergenceWarning)\n"
          ],
          "name": "stderr"
        },
        {
          "output_type": "stream",
          "text": [
            "CPU times: user 1min 48s, sys: 67.2 ms, total: 1min 48s\n",
            "Wall time: 1min 48s\n"
          ],
          "name": "stdout"
        }
      ]
    },
    {
      "cell_type": "code",
      "metadata": {
        "id": "P7Vjm_4ztH7W"
      },
      "source": [
        "y_val_predicted_labels_mybag = classifier_mybag.predict(X_val_mybag)\r\n",
        "y_val_predicted_scores_mybag = classifier_mybag.decision_function(X_val_mybag)\r\n",
        "\r\n",
        "y_val_predicted_labels_tfidf = classifier_tfidf.predict(X_val_tfidf)\r\n",
        "y_val_predicted_scores_tfidf = classifier_tfidf.decision_function(X_val_tfidf)"
      ],
      "execution_count": null,
      "outputs": []
    },
    {
      "cell_type": "code",
      "metadata": {
        "colab": {
          "base_uri": "https://localhost:8080/"
        },
        "id": "eWoVoMaKsrfP",
        "outputId": "069b6618-d484-4ab2-becb-e23a07f19e47"
      },
      "source": [
        "y_val_pred_inversed = mlb.inverse_transform(y_val_predicted_labels_mybag)\r\n",
        "y_val_inversed = mlb.inverse_transform(y_val)\r\n",
        "for i in range(10):\r\n",
        "    print('Title:\\t{}\\nTrue labels:\\t{}\\nPredicted labels:\\t{}\\n\\n'.format(\r\n",
        "        X_val[i],\r\n",
        "        ','.join(y_val_inversed[i]),\r\n",
        "        ','.join(y_val_pred_inversed[i])\r\n",
        "    ))"
      ],
      "execution_count": null,
      "outputs": [
        {
          "output_type": "stream",
          "text": [
            "Title:\todbc_exec always fail\n",
            "True labels:\tphp,sql\n",
            "Predicted labels:\t\n",
            "\n",
            "\n",
            "Title:\taccess base classes variable within child class\n",
            "True labels:\tjavascript\n",
            "Predicted labels:\t\n",
            "\n",
            "\n",
            "Title:\tcontenttype applicationjson required rails\n",
            "True labels:\truby,ruby-on-rails\n",
            "Predicted labels:\t\n",
            "\n",
            "\n",
            "Title:\tsessions sinatra used pass variable\n",
            "True labels:\truby,session\n",
            "Predicted labels:\t\n",
            "\n",
            "\n",
            "Title:\tgetting error type json exist postgresql rake db migrate\n",
            "True labels:\tjson,ruby,ruby-on-rails\n",
            "Predicted labels:\t\n",
            "\n",
            "\n",
            "Title:\tlibrary found\n",
            "True labels:\tc++,ios,iphone,xcode\n",
            "Predicted labels:\t\n",
            "\n",
            "\n",
            "Title:\tcsproj file programmatic addingdeleting files\n",
            "True labels:\tc#\n",
            "Predicted labels:\t\n",
            "\n",
            "\n",
            "Title:\ttypeerror makedirs got unexpected keyword argument exists_ok\n",
            "True labels:\tdjango,python\n",
            "Predicted labels:\t\n",
            "\n",
            "\n",
            "Title:\tpan div using jquery\n",
            "True labels:\thtml,javascript,jquery\n",
            "Predicted labels:\t\n",
            "\n",
            "\n",
            "Title:\thibernate intermediateadvanced tutorials\n",
            "True labels:\thibernate,java\n",
            "Predicted labels:\t\n",
            "\n",
            "\n"
          ],
          "name": "stdout"
        }
      ]
    },
    {
      "cell_type": "markdown",
      "metadata": {
        "id": "_LIFeqiasADg"
      },
      "source": [
        "Evaluation"
      ]
    },
    {
      "cell_type": "code",
      "metadata": {
        "colab": {
          "base_uri": "https://localhost:8080/"
        },
        "id": "_urR4oo2sBv2",
        "outputId": "5ac3eff5-f2aa-45fb-a6c2-1ef2f861ecb1"
      },
      "source": [
        "from sklearn.metrics import accuracy_score\r\n",
        "from sklearn.metrics import f1_score\r\n",
        "from sklearn.metrics import roc_auc_score \r\n",
        "from sklearn.metrics import average_precision_score\r\n",
        "from sklearn.metrics import recall_score\r\n",
        "from functools import partial\r\n",
        "\r\n",
        "def print_evaluation_scores(y_val, predicted):\r\n",
        "    f1_score_macro = partial(f1_score,average=\"macro\")\r\n",
        "    f1_score_micro = partial(f1_score,average=\"micro\")\r\n",
        "    f1_score_weighted = partial(f1_score,average=\"weighted\")\r\n",
        "    \r\n",
        "    average_precision_score_macro = partial(average_precision_score,average=\"macro\")\r\n",
        "    average_precision_score_micro = partial(average_precision_score,average=\"micro\")\r\n",
        "    average_precision_score_weighted = partial(average_precision_score,average=\"weighted\")\r\n",
        "    \r\n",
        "    scores = [accuracy_score,f1_score_macro,f1_score_micro,f1_score_weighted,average_precision_score_macro,\r\n",
        "             average_precision_score_micro,average_precision_score_weighted]\r\n",
        "    for score in scores:\r\n",
        "        print(score,score(y_val,predicted))\r\n",
        "\r\n",
        "print('Bag-of-words')\r\n",
        "print_evaluation_scores(y_val, y_val_predicted_labels_mybag)\r\n",
        "print('Tfidf')\r\n",
        "print_evaluation_scores(y_val, y_val_predicted_labels_tfidf)\r\n"
      ],
      "execution_count": null,
      "outputs": [
        {
          "output_type": "stream",
          "text": [
            "Bag-of-words\n",
            "<function accuracy_score at 0x7f7e72b3f598> 0.0\n",
            "functools.partial(<function f1_score at 0x7f7e72b3f9d8>, average='macro') 0.0\n",
            "functools.partial(<function f1_score at 0x7f7e72b3f9d8>, average='micro') 0.0\n",
            "functools.partial(<function f1_score at 0x7f7e72b3f9d8>, average='weighted') 0.0\n",
            "functools.partial(<function average_precision_score at 0x7f7e72b30510>, average='macro') 0.01950333333333333\n",
            "functools.partial(<function average_precision_score at 0x7f7e72b30510>, average='micro') 0.019503333333333334\n",
            "functools.partial(<function average_precision_score at 0x7f7e72b30510>, average='weighted') 0.08404558878824134\n",
            "Tfidf\n",
            "<function accuracy_score at 0x7f7e72b3f598> 0.3619\n",
            "functools.partial(<function f1_score at 0x7f7e72b3f9d8>, average='macro') 0.505616032651385\n",
            "functools.partial(<function f1_score at 0x7f7e72b3f9d8>, average='micro') 0.6705180533751962\n",
            "functools.partial(<function f1_score at 0x7f7e72b3f9d8>, average='weighted') 0.6480304194388395\n",
            "functools.partial(<function average_precision_score at 0x7f7e72b30510>, average='macro') 0.3456453436520583\n",
            "functools.partial(<function average_precision_score at 0x7f7e72b30510>, average='micro') 0.4823267321822868\n",
            "functools.partial(<function average_precision_score at 0x7f7e72b30510>, average='weighted') 0.5119406401894546\n"
          ],
          "name": "stdout"
        }
      ]
    },
    {
      "cell_type": "code",
      "metadata": {
        "id": "s3h5eI4WvfKH"
      },
      "source": [
        "from metrics import roc_auc\r\n",
        "%matplotlib inline"
      ],
      "execution_count": null,
      "outputs": []
    },
    {
      "cell_type": "code",
      "metadata": {
        "colab": {
          "base_uri": "https://localhost:8080/",
          "height": 295
        },
        "id": "OrVk5XpoviW_",
        "outputId": "49244c0d-252b-4945-b9ce-bcbf0a358b7d"
      },
      "source": [
        "n_classes = len(tags_counts)\r\n",
        "roc_auc(y_val, y_val_predicted_scores_mybag, n_classes)"
      ],
      "execution_count": null,
      "outputs": [
        {
          "output_type": "display_data",
          "data": {
            "image/png": "[encoded data removed]",
            "text/plain": [
              "<Figure size 432x288 with 1 Axes>"
            ]
          },
          "metadata": {
            "tags": [],
            "needs_background": "light"
          }
        }
      ]
    },
    {
      "cell_type": "code",
      "metadata": {
        "colab": {
          "base_uri": "https://localhost:8080/",
          "height": 295
        },
        "id": "mzhQ6N-CvoCx",
        "outputId": "92a7de17-aef0-495f-90d2-109490e562c4"
      },
      "source": [
        "n_classes = len(tags_counts)\r\n",
        "roc_auc(y_val, y_val_predicted_scores_tfidf, n_classes)"
      ],
      "execution_count": null,
      "outputs": [
        {
          "output_type": "display_data",
          "data": {
            "image/png": "[encoded data removed]",
            "text/plain": [
              "<Figure size 432x288 with 1 Axes>"
            ]
          },
          "metadata": {
            "tags": [],
            "needs_background": "light"
          }
        }
      ]
    }
  ]
}